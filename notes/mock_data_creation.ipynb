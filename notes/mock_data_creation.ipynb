{
 "cells": [
  {
   "cell_type": "code",
   "execution_count": 1,
   "metadata": {},
   "outputs": [],
   "source": [
    "import csv\n",
    "import random\n",
    "import numpy as np\n",
    "import pandas as pd\n",
    "import matplotlib.pyplot as plt\n",
    "\n",
    "np.random.seed(24)\n",
    "random.seed(24)"
   ]
  },
  {
   "cell_type": "code",
   "execution_count": 2,
   "metadata": {},
   "outputs": [],
   "source": [
    "def generate_cluster_training_data(sample_num):\n",
    "    train_data = []\n",
    "\n",
    "    for _ in range (sample_num):\n",
    "        learner_type = random.choice(['Good', 'Average', 'Beginner', 'Poor'])\n",
    "        #Good Learner\n",
    "        if learner_type == 'Good':\n",
    "            accuracy = np.random.normal (0.8, 0.2)\n",
    "            login_streak = np.random.normal(0.9, 0.1)\n",
    "            quiz_time_taken = np.random.normal(10, 5)\n",
    "            quiz_word_learnt = np.round(np.random.normal(50, 5)).astype(int)\n",
    "        #Average Learner\n",
    "        elif learner_type == 'Average':\n",
    "            accuracy = np.random.normal (0.6, 0.2)\n",
    "            login_streak = np.random.normal(5/7, 0.1)\n",
    "            quiz_time_taken = np.random.normal(20, 5)\n",
    "            quiz_word_learnt = np.round(np.random.normal(35, 5)).astype(int)\n",
    "        #Beginner Learner\n",
    "        elif learner_type == 'Beginner':\n",
    "            accuracy = np.random.normal (0.5, 0.2)\n",
    "            login_streak = np.random.normal(3/7, 0.1)\n",
    "            quiz_time_taken = np.random.normal(30, 5)\n",
    "            quiz_word_learnt = np.round(np.random.normal(20, 5)).astype(int)\n",
    "        #Bad learner\n",
    "        else:\n",
    "            accuracy = np.random.normal (0.1, 0.1)\n",
    "            login_streak = np.random.normal(1/7, 0.1)\n",
    "            quiz_time_taken = np.random.normal(40, 5)\n",
    "            quiz_word_learnt = np.round(np.random.normal(10, 5)).astype(int)\n",
    "\n",
    "        accuracy = np.clip(accuracy, 0, 1)\n",
    "        login_streak = np.clip(login_streak, 0, 1)\n",
    "        quiz_time_taken = np.clip(quiz_time_taken, 0, None)\n",
    "        quiz_word_learnt = np.clip(quiz_word_learnt, 0, None)\n",
    "        train_data.append([learner_type, accuracy, login_streak, quiz_time_taken, quiz_word_learnt])\n",
    "\n",
    "    columns = ['learner_type', 'accuracy', 'login_streak', 'quiz_time_taken', 'quiz_word_learnt']\n",
    "    df = pd.DataFrame(train_data, columns=columns)\n",
    "    \n",
    "    return df"
   ]
  },
  {
   "cell_type": "code",
   "execution_count": 8,
   "metadata": {},
   "outputs": [
    {
     "data": {
      "text/html": [
       "<div>\n",
       "<style scoped>\n",
       "    .dataframe tbody tr th:only-of-type {\n",
       "        vertical-align: middle;\n",
       "    }\n",
       "\n",
       "    .dataframe tbody tr th {\n",
       "        vertical-align: top;\n",
       "    }\n",
       "\n",
       "    .dataframe thead th {\n",
       "        text-align: right;\n",
       "    }\n",
       "</style>\n",
       "<table border=\"1\" class=\"dataframe\">\n",
       "  <thead>\n",
       "    <tr style=\"text-align: right;\">\n",
       "      <th></th>\n",
       "      <th>learner_type</th>\n",
       "      <th>accuracy</th>\n",
       "      <th>login_streak</th>\n",
       "      <th>quiz_time_taken</th>\n",
       "      <th>quiz_word_learnt</th>\n",
       "    </tr>\n",
       "  </thead>\n",
       "  <tbody>\n",
       "    <tr>\n",
       "      <th>0</th>\n",
       "      <td>Average</td>\n",
       "      <td>0.608410</td>\n",
       "      <td>0.794614</td>\n",
       "      <td>14.305635</td>\n",
       "      <td>35</td>\n",
       "    </tr>\n",
       "    <tr>\n",
       "      <th>1</th>\n",
       "      <td>Poor</td>\n",
       "      <td>0.010325</td>\n",
       "      <td>0.095592</td>\n",
       "      <td>43.772072</td>\n",
       "      <td>10</td>\n",
       "    </tr>\n",
       "    <tr>\n",
       "      <th>2</th>\n",
       "      <td>Good</td>\n",
       "      <td>0.487366</td>\n",
       "      <td>0.809188</td>\n",
       "      <td>7.358682</td>\n",
       "      <td>56</td>\n",
       "    </tr>\n",
       "    <tr>\n",
       "      <th>3</th>\n",
       "      <td>Good</td>\n",
       "      <td>0.684194</td>\n",
       "      <td>0.821531</td>\n",
       "      <td>9.010260</td>\n",
       "      <td>40</td>\n",
       "    </tr>\n",
       "    <tr>\n",
       "      <th>4</th>\n",
       "      <td>Average</td>\n",
       "      <td>1.000000</td>\n",
       "      <td>0.849435</td>\n",
       "      <td>17.487926</td>\n",
       "      <td>32</td>\n",
       "    </tr>\n",
       "  </tbody>\n",
       "</table>\n",
       "</div>"
      ],
      "text/plain": [
       "  learner_type  accuracy  login_streak  quiz_time_taken  quiz_word_learnt\n",
       "0      Average  0.608410      0.794614        14.305635                35\n",
       "1         Poor  0.010325      0.095592        43.772072                10\n",
       "2         Good  0.487366      0.809188         7.358682                56\n",
       "3         Good  0.684194      0.821531         9.010260                40\n",
       "4      Average  1.000000      0.849435        17.487926                32"
      ]
     },
     "execution_count": 8,
     "metadata": {},
     "output_type": "execute_result"
    }
   ],
   "source": [
    "df = generate_cluster_training_data(1000)\n",
    "df.head()"
   ]
  },
  {
   "cell_type": "code",
   "execution_count": null,
   "metadata": {},
   "outputs": [],
   "source": [
    "df.to_csv('dummy_v2.0.csv', index=False)"
   ]
  }
 ],
 "metadata": {
  "kernelspec": {
   "display_name": "mlaenv",
   "language": "python",
   "name": "python3"
  },
  "language_info": {
   "codemirror_mode": {
    "name": "ipython",
    "version": 3
   },
   "file_extension": ".py",
   "mimetype": "text/x-python",
   "name": "python",
   "nbconvert_exporter": "python",
   "pygments_lexer": "ipython3",
   "version": "3.11.5"
  }
 },
 "nbformat": 4,
 "nbformat_minor": 2
}
