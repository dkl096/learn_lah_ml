{
 "cells": [
  {
   "cell_type": "code",
   "execution_count": 3,
   "metadata": {},
   "outputs": [
    {
     "name": "stdout",
     "output_type": "stream",
     "text": [
      "3.11.5 | packaged by Anaconda, Inc. | (main, Sep 11 2023, 13:26:23) [MSC v.1916 64 bit (AMD64)]\n",
      "1.26.0\n",
      "1.2.2\n",
      "4.0\n",
      "0.13.0\n",
      "3.0.0\n",
      "3.8.0\n"
     ]
    },
    {
     "name": "stderr",
     "output_type": "stream",
     "text": [
      "C:\\Users\\diank\\AppData\\Local\\Temp\\ipykernel_36172\\3921683358.py:14: DeprecationWarning: The '__version__' attribute is deprecated and will be removed in Flask 3.1. Use feature detection or 'importlib.metadata.version(\"flask\")' instead.\n",
      "  print(flask.__version__)\n"
     ]
    }
   ],
   "source": [
    "import sys\n",
    "import numpy\n",
    "import sklearn\n",
    "import pickle\n",
    "import flask\n",
    "import seaborn\n",
    "import matplotlib\n",
    "\n",
    "print(sys.version)\n",
    "print(numpy.__version__)\n",
    "print(sklearn.__version__)\n",
    "print(pickle.format_version)\n",
    "print(seaborn.__version__)\n",
    "print(flask.__version__)\n",
    "print(matplotlib.__version__)"
   ]
  }
 ],
 "metadata": {
  "kernelspec": {
   "display_name": "mlaenv",
   "language": "python",
   "name": "python3"
  },
  "language_info": {
   "codemirror_mode": {
    "name": "ipython",
    "version": 3
   },
   "file_extension": ".py",
   "mimetype": "text/x-python",
   "name": "python",
   "nbconvert_exporter": "python",
   "pygments_lexer": "ipython3",
   "version": "3.11.5"
  }
 },
 "nbformat": 4,
 "nbformat_minor": 2
}
